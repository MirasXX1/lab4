{
 "cells": [
  {
   "cell_type": "code",
   "execution_count": 2,
   "metadata": {},
   "outputs": [
    {
     "name": "stdout",
     "output_type": "stream",
     "text": [
      "48\n"
     ]
    }
   ],
   "source": [
    "def parallelogram_area(base, height):\n",
    "    return round(base * height, 6)\n",
    "\n",
    "a=int(input())\n",
    "b=int(input())\n",
    "print( parallelogram_area(a,b))"
   ]
  },
  {
   "cell_type": "code",
   "execution_count": 3,
   "metadata": {},
   "outputs": [
    {
     "name": "stdout",
     "output_type": "stream",
     "text": [
      "67.102597\n"
     ]
    }
   ],
   "source": [
    "import math\n",
    "n=int(input())\n",
    "a=float(input())\n",
    "A=n*(a**2)/4*(math.tan(math.pi/n))\n",
    "\n",
    "print(round(A,6))"
   ]
  },
  {
   "cell_type": "code",
   "execution_count": 4,
   "metadata": {},
   "outputs": [
    {
     "name": "stdout",
     "output_type": "stream",
     "text": [
      "22.0\n"
     ]
    }
   ],
   "source": [
    "def Trap(h, b, a):\n",
    "    return ((a+b)*h)/2\n",
    "h=(int(input()))\n",
    "b=(int(input()))\n",
    "a=(int(input()))\n",
    "\n",
    "print(Trap(h, b, a))"
   ]
  },
  {
   "cell_type": "code",
   "execution_count": 5,
   "metadata": {},
   "outputs": [
    {
     "name": "stdout",
     "output_type": "stream",
     "text": [
      "0.10471975511965978\n"
     ]
    }
   ],
   "source": [
    "import math\n",
    "\n",
    "def ui(degree):\n",
    "  return (degree*(math.pi/180))\n",
    "\n",
    "degree=(int(input()))\n",
    "print(ui(degree))"
   ]
  }
 ],
 "metadata": {
  "kernelspec": {
   "display_name": "Python 3",
   "language": "python",
   "name": "python3"
  },
  "language_info": {
   "codemirror_mode": {
    "name": "ipython",
    "version": 3
   },
   "file_extension": ".py",
   "mimetype": "text/x-python",
   "name": "python",
   "nbconvert_exporter": "python",
   "pygments_lexer": "ipython3",
   "version": "3.13.1"
  }
 },
 "nbformat": 4,
 "nbformat_minor": 2
}
